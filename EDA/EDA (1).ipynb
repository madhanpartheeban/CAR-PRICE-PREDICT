{
 "cells": [
  {
   "cell_type": "code",
   "execution_count": 3,
   "metadata": {},
   "outputs": [],
   "source": [
    "import seaborn as sns\n",
    "import matplotlib.pyplot as plt"
   ]
  },
  {
   "cell_type": "code",
   "execution_count": 4,
   "metadata": {},
   "outputs": [],
   "source": [
    "import pandas as pd\n",
    "\n",
    "data = pd.read_csv(r\"C:\\Users\\GS0864\\OneDrive\\Desktop\\for_vs_code\\CAR_PRICE_PREDICTION\\car_data_cleaning\\datacleaning\\Cleaned_cars_data.csv\", index_col=0)"
   ]
  },
  {
   "cell_type": "code",
   "execution_count": 5,
   "metadata": {},
   "outputs": [
    {
     "data": {
      "text/html": [
       "<div>\n",
       "<style scoped>\n",
       "    .dataframe tbody tr th:only-of-type {\n",
       "        vertical-align: middle;\n",
       "    }\n",
       "\n",
       "    .dataframe tbody tr th {\n",
       "        vertical-align: top;\n",
       "    }\n",
       "\n",
       "    .dataframe thead th {\n",
       "        text-align: right;\n",
       "    }\n",
       "</style>\n",
       "<table border=\"1\" class=\"dataframe\">\n",
       "  <thead>\n",
       "    <tr style=\"text-align: right;\">\n",
       "      <th></th>\n",
       "      <th>body type</th>\n",
       "      <th>Kilometers driven</th>\n",
       "      <th>Transmission type</th>\n",
       "      <th>Number of owners</th>\n",
       "      <th>car model</th>\n",
       "      <th>Year of manufacture</th>\n",
       "      <th>price</th>\n",
       "      <th>Fuel Type</th>\n",
       "      <th>Insurance Validity</th>\n",
       "      <th>Seats</th>\n",
       "      <th>Engine</th>\n",
       "      <th>Mileage</th>\n",
       "      <th>Color</th>\n",
       "      <th>Turbo Charger</th>\n",
       "      <th>Super Charger</th>\n",
       "      <th>Steering Type</th>\n",
       "      <th>Top Speed</th>\n",
       "      <th>No Door Numbers</th>\n",
       "      <th>Cargo Volumn</th>\n",
       "      <th>City</th>\n",
       "    </tr>\n",
       "  </thead>\n",
       "  <tbody>\n",
       "    <tr>\n",
       "      <th>0</th>\n",
       "      <td>Hatchback</td>\n",
       "      <td>120000</td>\n",
       "      <td>Manual</td>\n",
       "      <td>3</td>\n",
       "      <td>Maruti Celerio</td>\n",
       "      <td>2015</td>\n",
       "      <td>400000.0</td>\n",
       "      <td>Petrol</td>\n",
       "      <td>Third Party insurance</td>\n",
       "      <td>5.0</td>\n",
       "      <td>998.0</td>\n",
       "      <td>23.10</td>\n",
       "      <td>White</td>\n",
       "      <td>No</td>\n",
       "      <td>No</td>\n",
       "      <td>Power</td>\n",
       "      <td>150.0</td>\n",
       "      <td>5.0</td>\n",
       "      <td>235.0</td>\n",
       "      <td>Banglore</td>\n",
       "    </tr>\n",
       "    <tr>\n",
       "      <th>1</th>\n",
       "      <td>SUV</td>\n",
       "      <td>32706</td>\n",
       "      <td>Manual</td>\n",
       "      <td>2</td>\n",
       "      <td>Ford Ecosport</td>\n",
       "      <td>2018</td>\n",
       "      <td>811000.0</td>\n",
       "      <td>Petrol</td>\n",
       "      <td>Comprehensive</td>\n",
       "      <td>5.0</td>\n",
       "      <td>1497.0</td>\n",
       "      <td>17.00</td>\n",
       "      <td>White</td>\n",
       "      <td>No</td>\n",
       "      <td>No</td>\n",
       "      <td>Power</td>\n",
       "      <td>NaN</td>\n",
       "      <td>4.0</td>\n",
       "      <td>352.0</td>\n",
       "      <td>Banglore</td>\n",
       "    </tr>\n",
       "    <tr>\n",
       "      <th>2</th>\n",
       "      <td>Hatchback</td>\n",
       "      <td>11949</td>\n",
       "      <td>Manual</td>\n",
       "      <td>1</td>\n",
       "      <td>Tata Tiago</td>\n",
       "      <td>2018</td>\n",
       "      <td>585000.0</td>\n",
       "      <td>Petrol</td>\n",
       "      <td>Comprehensive</td>\n",
       "      <td>5.0</td>\n",
       "      <td>1199.0</td>\n",
       "      <td>23.84</td>\n",
       "      <td>Red</td>\n",
       "      <td>No</td>\n",
       "      <td>No</td>\n",
       "      <td>Power</td>\n",
       "      <td>150.0</td>\n",
       "      <td>5.0</td>\n",
       "      <td>242.0</td>\n",
       "      <td>Banglore</td>\n",
       "    </tr>\n",
       "    <tr>\n",
       "      <th>3</th>\n",
       "      <td>Sedan</td>\n",
       "      <td>17794</td>\n",
       "      <td>Manual</td>\n",
       "      <td>1</td>\n",
       "      <td>Hyundai Xcent</td>\n",
       "      <td>2014</td>\n",
       "      <td>462000.0</td>\n",
       "      <td>Petrol</td>\n",
       "      <td>Comprehensive</td>\n",
       "      <td>5.0</td>\n",
       "      <td>1197.0</td>\n",
       "      <td>19.10</td>\n",
       "      <td>Others</td>\n",
       "      <td>No</td>\n",
       "      <td>No</td>\n",
       "      <td>Power</td>\n",
       "      <td>172.0</td>\n",
       "      <td>4.0</td>\n",
       "      <td>407.0</td>\n",
       "      <td>Banglore</td>\n",
       "    </tr>\n",
       "    <tr>\n",
       "      <th>4</th>\n",
       "      <td>SUV</td>\n",
       "      <td>60000</td>\n",
       "      <td>Manual</td>\n",
       "      <td>1</td>\n",
       "      <td>Maruti SX4 S Cross</td>\n",
       "      <td>2015</td>\n",
       "      <td>790000.0</td>\n",
       "      <td>Diesel</td>\n",
       "      <td>Third Party insurance</td>\n",
       "      <td>5.0</td>\n",
       "      <td>1248.0</td>\n",
       "      <td>23.65</td>\n",
       "      <td>Gray</td>\n",
       "      <td>Yes</td>\n",
       "      <td>No</td>\n",
       "      <td>Power</td>\n",
       "      <td>190.0</td>\n",
       "      <td>5.0</td>\n",
       "      <td>353.0</td>\n",
       "      <td>Banglore</td>\n",
       "    </tr>\n",
       "    <tr>\n",
       "      <th>...</th>\n",
       "      <td>...</td>\n",
       "      <td>...</td>\n",
       "      <td>...</td>\n",
       "      <td>...</td>\n",
       "      <td>...</td>\n",
       "      <td>...</td>\n",
       "      <td>...</td>\n",
       "      <td>...</td>\n",
       "      <td>...</td>\n",
       "      <td>...</td>\n",
       "      <td>...</td>\n",
       "      <td>...</td>\n",
       "      <td>...</td>\n",
       "      <td>...</td>\n",
       "      <td>...</td>\n",
       "      <td>...</td>\n",
       "      <td>...</td>\n",
       "      <td>...</td>\n",
       "      <td>...</td>\n",
       "      <td>...</td>\n",
       "    </tr>\n",
       "    <tr>\n",
       "      <th>8364</th>\n",
       "      <td>Hatchback</td>\n",
       "      <td>10000</td>\n",
       "      <td>Manual</td>\n",
       "      <td>1</td>\n",
       "      <td>Maruti Celerio</td>\n",
       "      <td>2022</td>\n",
       "      <td>510000.0</td>\n",
       "      <td>Petrol</td>\n",
       "      <td>Third Party insurance</td>\n",
       "      <td>5.0</td>\n",
       "      <td>998.0</td>\n",
       "      <td>25.24</td>\n",
       "      <td>Others</td>\n",
       "      <td>NaN</td>\n",
       "      <td>NaN</td>\n",
       "      <td>Electric</td>\n",
       "      <td>NaN</td>\n",
       "      <td>5.0</td>\n",
       "      <td>313.0</td>\n",
       "      <td>Kolkata</td>\n",
       "    </tr>\n",
       "    <tr>\n",
       "      <th>8365</th>\n",
       "      <td>Hatchback</td>\n",
       "      <td>120000</td>\n",
       "      <td>Manual</td>\n",
       "      <td>1</td>\n",
       "      <td>Maruti Alto 800</td>\n",
       "      <td>2014</td>\n",
       "      <td>180000.0</td>\n",
       "      <td>Petrol</td>\n",
       "      <td>Third Party insurance</td>\n",
       "      <td>5.0</td>\n",
       "      <td>796.0</td>\n",
       "      <td>22.74</td>\n",
       "      <td>Others</td>\n",
       "      <td>No</td>\n",
       "      <td>No</td>\n",
       "      <td>Power</td>\n",
       "      <td>140.0</td>\n",
       "      <td>5.0</td>\n",
       "      <td>177.0</td>\n",
       "      <td>Kolkata</td>\n",
       "    </tr>\n",
       "    <tr>\n",
       "      <th>8366</th>\n",
       "      <td>Sedan</td>\n",
       "      <td>50000</td>\n",
       "      <td>Automatic</td>\n",
       "      <td>3</td>\n",
       "      <td>Mercedes-Benz C-Class</td>\n",
       "      <td>2011</td>\n",
       "      <td>550000.0</td>\n",
       "      <td>Petrol</td>\n",
       "      <td>Third Party insurance</td>\n",
       "      <td>5.0</td>\n",
       "      <td>1796.0</td>\n",
       "      <td>11.74</td>\n",
       "      <td>Others</td>\n",
       "      <td>No</td>\n",
       "      <td>No</td>\n",
       "      <td>Power</td>\n",
       "      <td>230.0</td>\n",
       "      <td>4.0</td>\n",
       "      <td>475.0</td>\n",
       "      <td>Kolkata</td>\n",
       "    </tr>\n",
       "    <tr>\n",
       "      <th>8367</th>\n",
       "      <td>Hatchback</td>\n",
       "      <td>40000</td>\n",
       "      <td>Manual</td>\n",
       "      <td>1</td>\n",
       "      <td>Maruti Ritz</td>\n",
       "      <td>2012</td>\n",
       "      <td>140000.0</td>\n",
       "      <td>Petrol</td>\n",
       "      <td>Third Party insurance</td>\n",
       "      <td>5.0</td>\n",
       "      <td>1197.0</td>\n",
       "      <td>18.50</td>\n",
       "      <td>Others</td>\n",
       "      <td>No</td>\n",
       "      <td>No</td>\n",
       "      <td>Power</td>\n",
       "      <td>156.0</td>\n",
       "      <td>5.0</td>\n",
       "      <td>236.0</td>\n",
       "      <td>Kolkata</td>\n",
       "    </tr>\n",
       "    <tr>\n",
       "      <th>8368</th>\n",
       "      <td>SUV</td>\n",
       "      <td>120000</td>\n",
       "      <td>Manual</td>\n",
       "      <td>2</td>\n",
       "      <td>Renault Duster</td>\n",
       "      <td>2017</td>\n",
       "      <td>500000.0</td>\n",
       "      <td>Diesel</td>\n",
       "      <td>Third Party insurance</td>\n",
       "      <td>5.0</td>\n",
       "      <td>1461.0</td>\n",
       "      <td>19.72</td>\n",
       "      <td>Others</td>\n",
       "      <td>Yes</td>\n",
       "      <td>No</td>\n",
       "      <td>Power</td>\n",
       "      <td>168.0</td>\n",
       "      <td>5.0</td>\n",
       "      <td>410.0</td>\n",
       "      <td>Kolkata</td>\n",
       "    </tr>\n",
       "  </tbody>\n",
       "</table>\n",
       "<p>8261 rows × 20 columns</p>\n",
       "</div>"
      ],
      "text/plain": [
       "      body type  Kilometers driven Transmission type  Number of owners  \\\n",
       "0     Hatchback             120000            Manual                 3   \n",
       "1           SUV              32706            Manual                 2   \n",
       "2     Hatchback              11949            Manual                 1   \n",
       "3         Sedan              17794            Manual                 1   \n",
       "4           SUV              60000            Manual                 1   \n",
       "...         ...                ...               ...               ...   \n",
       "8364  Hatchback              10000            Manual                 1   \n",
       "8365  Hatchback             120000            Manual                 1   \n",
       "8366      Sedan              50000         Automatic                 3   \n",
       "8367  Hatchback              40000            Manual                 1   \n",
       "8368        SUV             120000            Manual                 2   \n",
       "\n",
       "                  car model  Year of manufacture     price Fuel Type  \\\n",
       "0            Maruti Celerio                 2015  400000.0    Petrol   \n",
       "1             Ford Ecosport                 2018  811000.0    Petrol   \n",
       "2                Tata Tiago                 2018  585000.0    Petrol   \n",
       "3             Hyundai Xcent                 2014  462000.0    Petrol   \n",
       "4        Maruti SX4 S Cross                 2015  790000.0    Diesel   \n",
       "...                     ...                  ...       ...       ...   \n",
       "8364         Maruti Celerio                 2022  510000.0    Petrol   \n",
       "8365        Maruti Alto 800                 2014  180000.0    Petrol   \n",
       "8366  Mercedes-Benz C-Class                 2011  550000.0    Petrol   \n",
       "8367            Maruti Ritz                 2012  140000.0    Petrol   \n",
       "8368         Renault Duster                 2017  500000.0    Diesel   \n",
       "\n",
       "         Insurance Validity  Seats  Engine  Mileage   Color Turbo Charger  \\\n",
       "0     Third Party insurance    5.0   998.0    23.10   White            No   \n",
       "1             Comprehensive    5.0  1497.0    17.00   White            No   \n",
       "2             Comprehensive    5.0  1199.0    23.84     Red            No   \n",
       "3             Comprehensive    5.0  1197.0    19.10  Others            No   \n",
       "4     Third Party insurance    5.0  1248.0    23.65    Gray           Yes   \n",
       "...                     ...    ...     ...      ...     ...           ...   \n",
       "8364  Third Party insurance    5.0   998.0    25.24  Others           NaN   \n",
       "8365  Third Party insurance    5.0   796.0    22.74  Others            No   \n",
       "8366  Third Party insurance    5.0  1796.0    11.74  Others            No   \n",
       "8367  Third Party insurance    5.0  1197.0    18.50  Others            No   \n",
       "8368  Third Party insurance    5.0  1461.0    19.72  Others           Yes   \n",
       "\n",
       "     Super Charger Steering Type  Top Speed  No Door Numbers  Cargo Volumn  \\\n",
       "0               No         Power      150.0              5.0         235.0   \n",
       "1               No         Power        NaN              4.0         352.0   \n",
       "2               No         Power      150.0              5.0         242.0   \n",
       "3               No         Power      172.0              4.0         407.0   \n",
       "4               No         Power      190.0              5.0         353.0   \n",
       "...            ...           ...        ...              ...           ...   \n",
       "8364           NaN      Electric        NaN              5.0         313.0   \n",
       "8365            No         Power      140.0              5.0         177.0   \n",
       "8366            No         Power      230.0              4.0         475.0   \n",
       "8367            No         Power      156.0              5.0         236.0   \n",
       "8368            No         Power      168.0              5.0         410.0   \n",
       "\n",
       "          City  \n",
       "0     Banglore  \n",
       "1     Banglore  \n",
       "2     Banglore  \n",
       "3     Banglore  \n",
       "4     Banglore  \n",
       "...        ...  \n",
       "8364   Kolkata  \n",
       "8365   Kolkata  \n",
       "8366   Kolkata  \n",
       "8367   Kolkata  \n",
       "8368   Kolkata  \n",
       "\n",
       "[8261 rows x 20 columns]"
      ]
     },
     "execution_count": 5,
     "metadata": {},
     "output_type": "execute_result"
    }
   ],
   "source": [
    "data"
   ]
  },
  {
   "cell_type": "code",
   "execution_count": 6,
   "metadata": {},
   "outputs": [
    {
     "data": {
      "text/plain": [
       "Index(['body type', 'Kilometers driven', 'Transmission type',\n",
       "       'Number of owners', 'car model', 'Year of manufacture', 'price',\n",
       "       'Fuel Type', 'Insurance Validity', 'Seats', 'Engine', 'Mileage',\n",
       "       'Color', 'Turbo Charger', 'Super Charger', 'Steering Type', 'Top Speed',\n",
       "       'No Door Numbers', 'Cargo Volumn', 'City'],\n",
       "      dtype='object')"
      ]
     },
     "execution_count": 6,
     "metadata": {},
     "output_type": "execute_result"
    }
   ],
   "source": [
    "data.columns"
   ]
  },
  {
   "cell_type": "code",
   "execution_count": 7,
   "metadata": {},
   "outputs": [
    {
     "name": "stdout",
     "output_type": "stream",
     "text": [
      "<class 'pandas.core.frame.DataFrame'>\n",
      "Index: 8261 entries, 0 to 8368\n",
      "Data columns (total 20 columns):\n",
      " #   Column               Non-Null Count  Dtype  \n",
      "---  ------               --------------  -----  \n",
      " 0   body type            8257 non-null   object \n",
      " 1   Kilometers driven    8261 non-null   int64  \n",
      " 2   Transmission type    8261 non-null   object \n",
      " 3   Number of owners     8261 non-null   int64  \n",
      " 4   car model            8261 non-null   object \n",
      " 5   Year of manufacture  8261 non-null   int64  \n",
      " 6   price                8261 non-null   float64\n",
      " 7   Fuel Type            8261 non-null   object \n",
      " 8   Insurance Validity   8257 non-null   object \n",
      " 9   Seats                8255 non-null   float64\n",
      " 10  Engine               8257 non-null   float64\n",
      " 11  Mileage              7977 non-null   float64\n",
      " 12  Color                8258 non-null   object \n",
      " 13  Turbo Charger        7234 non-null   object \n",
      " 14  Super Charger        6327 non-null   object \n",
      " 15  Steering Type        8007 non-null   object \n",
      " 16  Top Speed            4520 non-null   float64\n",
      " 17  No Door Numbers      8250 non-null   float64\n",
      " 18  Cargo Volumn         6693 non-null   float64\n",
      " 19  City                 8261 non-null   object \n",
      "dtypes: float64(7), int64(3), object(10)\n",
      "memory usage: 1.3+ MB\n"
     ]
    }
   ],
   "source": [
    "data.info()"
   ]
  },
  {
   "cell_type": "code",
   "execution_count": 8,
   "metadata": {},
   "outputs": [
    {
     "data": {
      "text/plain": [
       "body type                 4\n",
       "Kilometers driven         0\n",
       "Transmission type         0\n",
       "Number of owners          0\n",
       "car model                 0\n",
       "Year of manufacture       0\n",
       "price                     0\n",
       "Fuel Type                 0\n",
       "Insurance Validity        4\n",
       "Seats                     6\n",
       "Engine                    4\n",
       "Mileage                 284\n",
       "Color                     3\n",
       "Turbo Charger          1027\n",
       "Super Charger          1934\n",
       "Steering Type           254\n",
       "Top Speed              3741\n",
       "No Door Numbers          11\n",
       "Cargo Volumn           1568\n",
       "City                      0\n",
       "dtype: int64"
      ]
     },
     "execution_count": 8,
     "metadata": {},
     "output_type": "execute_result"
    }
   ],
   "source": [
    "data.isnull().sum()"
   ]
  },
  {
   "cell_type": "code",
   "execution_count": 9,
   "metadata": {},
   "outputs": [
    {
     "data": {
      "text/plain": [
       "'Hatchback'"
      ]
     },
     "execution_count": 9,
     "metadata": {},
     "output_type": "execute_result"
    }
   ],
   "source": [
    "data['body type'].mode()[0]"
   ]
  },
  {
   "cell_type": "code",
   "execution_count": 10,
   "metadata": {},
   "outputs": [
    {
     "name": "stderr",
     "output_type": "stream",
     "text": [
      "C:\\Users\\GS0864\\AppData\\Local\\Temp\\ipykernel_8312\\567721048.py:1: FutureWarning: A value is trying to be set on a copy of a DataFrame or Series through chained assignment using an inplace method.\n",
      "The behavior will change in pandas 3.0. This inplace method will never work because the intermediate object on which we are setting values always behaves as a copy.\n",
      "\n",
      "For example, when doing 'df[col].method(value, inplace=True)', try using 'df.method({col: value}, inplace=True)' or df[col] = df[col].method(value) instead, to perform the operation inplace on the original object.\n",
      "\n",
      "\n",
      "  data['body type'].fillna(data['body type'].mode()[0], inplace=True)\n"
     ]
    }
   ],
   "source": [
    "data['body type'].fillna(data['body type'].mode()[0], inplace=True)"
   ]
  },
  {
   "cell_type": "code",
   "execution_count": 11,
   "metadata": {},
   "outputs": [
    {
     "data": {
      "text/plain": [
       "Insurance Validity\n",
       "Third Party insurance     3960\n",
       "Comprehensive             3137\n",
       "Third Party                630\n",
       "Zero Dep                   303\n",
       "Not Available              223\n",
       "First Party insurance        3\n",
       "Second Party insurance       1\n",
       "Name: count, dtype: int64"
      ]
     },
     "execution_count": 11,
     "metadata": {},
     "output_type": "execute_result"
    }
   ],
   "source": [
    "data['Insurance Validity'].value_counts()"
   ]
  },
  {
   "cell_type": "code",
   "execution_count": 12,
   "metadata": {},
   "outputs": [
    {
     "data": {
      "text/plain": [
       "'Third Party insurance'"
      ]
     },
     "execution_count": 12,
     "metadata": {},
     "output_type": "execute_result"
    }
   ],
   "source": [
    "data['Insurance Validity'].mode()[0]"
   ]
  },
  {
   "cell_type": "code",
   "execution_count": 13,
   "metadata": {},
   "outputs": [
    {
     "name": "stderr",
     "output_type": "stream",
     "text": [
      "C:\\Users\\GS0864\\AppData\\Local\\Temp\\ipykernel_8312\\1787181864.py:1: FutureWarning: A value is trying to be set on a copy of a DataFrame or Series through chained assignment using an inplace method.\n",
      "The behavior will change in pandas 3.0. This inplace method will never work because the intermediate object on which we are setting values always behaves as a copy.\n",
      "\n",
      "For example, when doing 'df[col].method(value, inplace=True)', try using 'df.method({col: value}, inplace=True)' or df[col] = df[col].method(value) instead, to perform the operation inplace on the original object.\n",
      "\n",
      "\n",
      "  data['Insurance Validity'].fillna(data['Insurance Validity'].mode()[0], inplace=True)\n"
     ]
    }
   ],
   "source": [
    "data['Insurance Validity'].fillna(data['Insurance Validity'].mode()[0], inplace=True)"
   ]
  },
  {
   "cell_type": "code",
   "execution_count": 14,
   "metadata": {},
   "outputs": [
    {
     "data": {
      "text/plain": [
       "body type                 0\n",
       "Kilometers driven         0\n",
       "Transmission type         0\n",
       "Number of owners          0\n",
       "car model                 0\n",
       "Year of manufacture       0\n",
       "price                     0\n",
       "Fuel Type                 0\n",
       "Insurance Validity        0\n",
       "Seats                     6\n",
       "Engine                    4\n",
       "Mileage                 284\n",
       "Color                     3\n",
       "Turbo Charger          1027\n",
       "Super Charger          1934\n",
       "Steering Type           254\n",
       "Top Speed              3741\n",
       "No Door Numbers          11\n",
       "Cargo Volumn           1568\n",
       "City                      0\n",
       "dtype: int64"
      ]
     },
     "execution_count": 14,
     "metadata": {},
     "output_type": "execute_result"
    }
   ],
   "source": [
    "data.isnull().sum()"
   ]
  },
  {
   "cell_type": "code",
   "execution_count": 15,
   "metadata": {},
   "outputs": [
    {
     "data": {
      "text/plain": [
       "np.float64(5.0)"
      ]
     },
     "execution_count": 15,
     "metadata": {},
     "output_type": "execute_result"
    }
   ],
   "source": [
    "data['Seats'].median()"
   ]
  },
  {
   "cell_type": "code",
   "execution_count": 16,
   "metadata": {},
   "outputs": [
    {
     "name": "stderr",
     "output_type": "stream",
     "text": [
      "C:\\Users\\GS0864\\AppData\\Local\\Temp\\ipykernel_8312\\751290087.py:1: FutureWarning: A value is trying to be set on a copy of a DataFrame or Series through chained assignment using an inplace method.\n",
      "The behavior will change in pandas 3.0. This inplace method will never work because the intermediate object on which we are setting values always behaves as a copy.\n",
      "\n",
      "For example, when doing 'df[col].method(value, inplace=True)', try using 'df.method({col: value}, inplace=True)' or df[col] = df[col].method(value) instead, to perform the operation inplace on the original object.\n",
      "\n",
      "\n",
      "  data['Seats'].fillna(data['Seats'].median(), inplace= True)\n"
     ]
    }
   ],
   "source": [
    "data['Seats'].fillna(data['Seats'].median(), inplace= True)"
   ]
  },
  {
   "cell_type": "code",
   "execution_count": 17,
   "metadata": {},
   "outputs": [
    {
     "data": {
      "text/plain": [
       "np.float64(1248.0)"
      ]
     },
     "execution_count": 17,
     "metadata": {},
     "output_type": "execute_result"
    }
   ],
   "source": [
    "data['Engine'].median()"
   ]
  },
  {
   "cell_type": "code",
   "execution_count": 18,
   "metadata": {},
   "outputs": [
    {
     "name": "stderr",
     "output_type": "stream",
     "text": [
      "C:\\Users\\GS0864\\AppData\\Local\\Temp\\ipykernel_8312\\1674788604.py:1: FutureWarning: A value is trying to be set on a copy of a DataFrame or Series through chained assignment using an inplace method.\n",
      "The behavior will change in pandas 3.0. This inplace method will never work because the intermediate object on which we are setting values always behaves as a copy.\n",
      "\n",
      "For example, when doing 'df[col].method(value, inplace=True)', try using 'df.method({col: value}, inplace=True)' or df[col] = df[col].method(value) instead, to perform the operation inplace on the original object.\n",
      "\n",
      "\n",
      "  data['Engine'].fillna(data['Engine'].median(), inplace=True)\n"
     ]
    }
   ],
   "source": [
    "data['Engine'].fillna(data['Engine'].median(), inplace=True)"
   ]
  },
  {
   "cell_type": "code",
   "execution_count": 19,
   "metadata": {},
   "outputs": [
    {
     "data": {
      "text/plain": [
       "body type                 0\n",
       "Kilometers driven         0\n",
       "Transmission type         0\n",
       "Number of owners          0\n",
       "car model                 0\n",
       "Year of manufacture       0\n",
       "price                     0\n",
       "Fuel Type                 0\n",
       "Insurance Validity        0\n",
       "Seats                     0\n",
       "Engine                    0\n",
       "Mileage                 284\n",
       "Color                     3\n",
       "Turbo Charger          1027\n",
       "Super Charger          1934\n",
       "Steering Type           254\n",
       "Top Speed              3741\n",
       "No Door Numbers          11\n",
       "Cargo Volumn           1568\n",
       "City                      0\n",
       "dtype: int64"
      ]
     },
     "execution_count": 19,
     "metadata": {},
     "output_type": "execute_result"
    }
   ],
   "source": [
    "data.isnull().sum()"
   ]
  },
  {
   "cell_type": "code",
   "execution_count": 20,
   "metadata": {},
   "outputs": [
    {
     "data": {
      "text/plain": [
       "np.float64(19.265003760812334)"
      ]
     },
     "execution_count": 20,
     "metadata": {},
     "output_type": "execute_result"
    }
   ],
   "source": [
    "data['Mileage'].mean()"
   ]
  },
  {
   "cell_type": "code",
   "execution_count": 21,
   "metadata": {},
   "outputs": [
    {
     "name": "stderr",
     "output_type": "stream",
     "text": [
      "C:\\Users\\GS0864\\AppData\\Local\\Temp\\ipykernel_8312\\3272080093.py:1: FutureWarning: A value is trying to be set on a copy of a DataFrame or Series through chained assignment using an inplace method.\n",
      "The behavior will change in pandas 3.0. This inplace method will never work because the intermediate object on which we are setting values always behaves as a copy.\n",
      "\n",
      "For example, when doing 'df[col].method(value, inplace=True)', try using 'df.method({col: value}, inplace=True)' or df[col] = df[col].method(value) instead, to perform the operation inplace on the original object.\n",
      "\n",
      "\n",
      "  data['Mileage'].fillna(data['Mileage'].mean(), inplace=True)\n"
     ]
    }
   ],
   "source": [
    "data['Mileage'].fillna(data['Mileage'].mean(), inplace=True)"
   ]
  },
  {
   "cell_type": "code",
   "execution_count": 22,
   "metadata": {},
   "outputs": [
    {
     "data": {
      "text/plain": [
       "Color\n",
       "Others                  2095\n",
       "White                   1646\n",
       "Silver                  1276\n",
       "Red                      791\n",
       "Blue                     603\n",
       "                        ... \n",
       "Cherry Red                 1\n",
       "golden brown               1\n",
       "Technometgrn+Gryroof       1\n",
       "Light Silver               1\n",
       "Out Back Bronze            1\n",
       "Name: count, Length: 153, dtype: int64"
      ]
     },
     "execution_count": 22,
     "metadata": {},
     "output_type": "execute_result"
    }
   ],
   "source": [
    "data['Color'].value_counts()"
   ]
  },
  {
   "cell_type": "code",
   "execution_count": 23,
   "metadata": {},
   "outputs": [
    {
     "name": "stderr",
     "output_type": "stream",
     "text": [
      "C:\\Users\\GS0864\\AppData\\Local\\Temp\\ipykernel_8312\\1895152529.py:1: FutureWarning: A value is trying to be set on a copy of a DataFrame or Series through chained assignment using an inplace method.\n",
      "The behavior will change in pandas 3.0. This inplace method will never work because the intermediate object on which we are setting values always behaves as a copy.\n",
      "\n",
      "For example, when doing 'df[col].method(value, inplace=True)', try using 'df.method({col: value}, inplace=True)' or df[col] = df[col].method(value) instead, to perform the operation inplace on the original object.\n",
      "\n",
      "\n",
      "  data['Color'].fillna(data['Color'].mode()[0], inplace= True)\n"
     ]
    }
   ],
   "source": [
    "data['Color'].fillna(data['Color'].mode()[0], inplace= True)"
   ]
  },
  {
   "cell_type": "code",
   "execution_count": 24,
   "metadata": {},
   "outputs": [
    {
     "name": "stderr",
     "output_type": "stream",
     "text": [
      "C:\\Users\\GS0864\\AppData\\Local\\Temp\\ipykernel_8312\\187063961.py:1: FutureWarning: A value is trying to be set on a copy of a DataFrame or Series through chained assignment using an inplace method.\n",
      "The behavior will change in pandas 3.0. This inplace method will never work because the intermediate object on which we are setting values always behaves as a copy.\n",
      "\n",
      "For example, when doing 'df[col].method(value, inplace=True)', try using 'df.method({col: value}, inplace=True)' or df[col] = df[col].method(value) instead, to perform the operation inplace on the original object.\n",
      "\n",
      "\n",
      "  data['Turbo Charger'].fillna(data['Turbo Charger'].mode()[0], inplace=True)\n"
     ]
    }
   ],
   "source": [
    "data['Turbo Charger'].fillna(data['Turbo Charger'].mode()[0], inplace=True)"
   ]
  },
  {
   "cell_type": "code",
   "execution_count": 25,
   "metadata": {},
   "outputs": [
    {
     "data": {
      "text/plain": [
       "body type                 0\n",
       "Kilometers driven         0\n",
       "Transmission type         0\n",
       "Number of owners          0\n",
       "car model                 0\n",
       "Year of manufacture       0\n",
       "price                     0\n",
       "Fuel Type                 0\n",
       "Insurance Validity        0\n",
       "Seats                     0\n",
       "Engine                    0\n",
       "Mileage                   0\n",
       "Color                     0\n",
       "Turbo Charger             0\n",
       "Super Charger          1934\n",
       "Steering Type           254\n",
       "Top Speed              3741\n",
       "No Door Numbers          11\n",
       "Cargo Volumn           1568\n",
       "City                      0\n",
       "dtype: int64"
      ]
     },
     "execution_count": 25,
     "metadata": {},
     "output_type": "execute_result"
    }
   ],
   "source": [
    "data.isnull().sum()"
   ]
  },
  {
   "cell_type": "code",
   "execution_count": 26,
   "metadata": {},
   "outputs": [
    {
     "data": {
      "text/plain": [
       "'No'"
      ]
     },
     "execution_count": 26,
     "metadata": {},
     "output_type": "execute_result"
    }
   ],
   "source": [
    "data['Super Charger'].mode()[0]"
   ]
  },
  {
   "cell_type": "code",
   "execution_count": 27,
   "metadata": {},
   "outputs": [
    {
     "name": "stderr",
     "output_type": "stream",
     "text": [
      "C:\\Users\\GS0864\\AppData\\Local\\Temp\\ipykernel_8312\\1950576790.py:1: FutureWarning: A value is trying to be set on a copy of a DataFrame or Series through chained assignment using an inplace method.\n",
      "The behavior will change in pandas 3.0. This inplace method will never work because the intermediate object on which we are setting values always behaves as a copy.\n",
      "\n",
      "For example, when doing 'df[col].method(value, inplace=True)', try using 'df.method({col: value}, inplace=True)' or df[col] = df[col].method(value) instead, to perform the operation inplace on the original object.\n",
      "\n",
      "\n",
      "  data['Super Charger'].fillna(data['Super Charger'].mode()[0], inplace=True)\n"
     ]
    }
   ],
   "source": [
    "data['Super Charger'].fillna(data['Super Charger'].mode()[0], inplace=True)"
   ]
  },
  {
   "cell_type": "code",
   "execution_count": 28,
   "metadata": {},
   "outputs": [
    {
     "data": {
      "text/plain": [
       "'Power'"
      ]
     },
     "execution_count": 28,
     "metadata": {},
     "output_type": "execute_result"
    }
   ],
   "source": [
    "data['Steering Type'].mode()[0]"
   ]
  },
  {
   "cell_type": "code",
   "execution_count": 29,
   "metadata": {},
   "outputs": [
    {
     "name": "stderr",
     "output_type": "stream",
     "text": [
      "C:\\Users\\GS0864\\AppData\\Local\\Temp\\ipykernel_8312\\695079919.py:1: FutureWarning: A value is trying to be set on a copy of a DataFrame or Series through chained assignment using an inplace method.\n",
      "The behavior will change in pandas 3.0. This inplace method will never work because the intermediate object on which we are setting values always behaves as a copy.\n",
      "\n",
      "For example, when doing 'df[col].method(value, inplace=True)', try using 'df.method({col: value}, inplace=True)' or df[col] = df[col].method(value) instead, to perform the operation inplace on the original object.\n",
      "\n",
      "\n",
      "  data['Steering Type'].fillna(data['Steering Type'].mode()[0], inplace=True)\n"
     ]
    }
   ],
   "source": [
    "data['Steering Type'].fillna(data['Steering Type'].mode()[0], inplace=True)"
   ]
  },
  {
   "cell_type": "code",
   "execution_count": 30,
   "metadata": {},
   "outputs": [
    {
     "data": {
      "text/plain": [
       "body type                 0\n",
       "Kilometers driven         0\n",
       "Transmission type         0\n",
       "Number of owners          0\n",
       "car model                 0\n",
       "Year of manufacture       0\n",
       "price                     0\n",
       "Fuel Type                 0\n",
       "Insurance Validity        0\n",
       "Seats                     0\n",
       "Engine                    0\n",
       "Mileage                   0\n",
       "Color                     0\n",
       "Turbo Charger             0\n",
       "Super Charger             0\n",
       "Steering Type             0\n",
       "Top Speed              3741\n",
       "No Door Numbers          11\n",
       "Cargo Volumn           1568\n",
       "City                      0\n",
       "dtype: int64"
      ]
     },
     "execution_count": 30,
     "metadata": {},
     "output_type": "execute_result"
    }
   ],
   "source": [
    "data.isnull().sum()"
   ]
  },
  {
   "cell_type": "code",
   "execution_count": 31,
   "metadata": {},
   "outputs": [
    {
     "data": {
      "text/plain": [
       "np.float64(170.0)"
      ]
     },
     "execution_count": 31,
     "metadata": {},
     "output_type": "execute_result"
    }
   ],
   "source": [
    "data['Top Speed'].median()"
   ]
  },
  {
   "cell_type": "code",
   "execution_count": 32,
   "metadata": {},
   "outputs": [
    {
     "name": "stderr",
     "output_type": "stream",
     "text": [
      "C:\\Users\\GS0864\\AppData\\Local\\Temp\\ipykernel_8312\\4232917131.py:1: FutureWarning: A value is trying to be set on a copy of a DataFrame or Series through chained assignment using an inplace method.\n",
      "The behavior will change in pandas 3.0. This inplace method will never work because the intermediate object on which we are setting values always behaves as a copy.\n",
      "\n",
      "For example, when doing 'df[col].method(value, inplace=True)', try using 'df.method({col: value}, inplace=True)' or df[col] = df[col].method(value) instead, to perform the operation inplace on the original object.\n",
      "\n",
      "\n",
      "  data['Top Speed'].fillna(data['Top Speed'].median(), inplace=True)\n"
     ]
    }
   ],
   "source": [
    "data['Top Speed'].fillna(data['Top Speed'].median(), inplace=True)"
   ]
  },
  {
   "cell_type": "code",
   "execution_count": 33,
   "metadata": {},
   "outputs": [],
   "source": [
    "data.rename(columns={'No Door Numbers': 'No of Doors'},inplace = True)"
   ]
  },
  {
   "cell_type": "code",
   "execution_count": 34,
   "metadata": {},
   "outputs": [
    {
     "data": {
      "text/html": [
       "<div>\n",
       "<style scoped>\n",
       "    .dataframe tbody tr th:only-of-type {\n",
       "        vertical-align: middle;\n",
       "    }\n",
       "\n",
       "    .dataframe tbody tr th {\n",
       "        vertical-align: top;\n",
       "    }\n",
       "\n",
       "    .dataframe thead th {\n",
       "        text-align: right;\n",
       "    }\n",
       "</style>\n",
       "<table border=\"1\" class=\"dataframe\">\n",
       "  <thead>\n",
       "    <tr style=\"text-align: right;\">\n",
       "      <th></th>\n",
       "      <th>body type</th>\n",
       "      <th>Kilometers driven</th>\n",
       "      <th>Transmission type</th>\n",
       "      <th>Number of owners</th>\n",
       "      <th>car model</th>\n",
       "      <th>Year of manufacture</th>\n",
       "      <th>price</th>\n",
       "      <th>Fuel Type</th>\n",
       "      <th>Insurance Validity</th>\n",
       "      <th>Seats</th>\n",
       "      <th>Engine</th>\n",
       "      <th>Mileage</th>\n",
       "      <th>Color</th>\n",
       "      <th>Turbo Charger</th>\n",
       "      <th>Super Charger</th>\n",
       "      <th>Steering Type</th>\n",
       "      <th>Top Speed</th>\n",
       "      <th>No of Doors</th>\n",
       "      <th>Cargo Volumn</th>\n",
       "      <th>City</th>\n",
       "    </tr>\n",
       "  </thead>\n",
       "  <tbody>\n",
       "    <tr>\n",
       "      <th>0</th>\n",
       "      <td>Hatchback</td>\n",
       "      <td>120000</td>\n",
       "      <td>Manual</td>\n",
       "      <td>3</td>\n",
       "      <td>Maruti Celerio</td>\n",
       "      <td>2015</td>\n",
       "      <td>400000.0</td>\n",
       "      <td>Petrol</td>\n",
       "      <td>Third Party insurance</td>\n",
       "      <td>5.0</td>\n",
       "      <td>998.0</td>\n",
       "      <td>23.10</td>\n",
       "      <td>White</td>\n",
       "      <td>No</td>\n",
       "      <td>No</td>\n",
       "      <td>Power</td>\n",
       "      <td>150.0</td>\n",
       "      <td>5.0</td>\n",
       "      <td>235.0</td>\n",
       "      <td>Banglore</td>\n",
       "    </tr>\n",
       "    <tr>\n",
       "      <th>1</th>\n",
       "      <td>SUV</td>\n",
       "      <td>32706</td>\n",
       "      <td>Manual</td>\n",
       "      <td>2</td>\n",
       "      <td>Ford Ecosport</td>\n",
       "      <td>2018</td>\n",
       "      <td>811000.0</td>\n",
       "      <td>Petrol</td>\n",
       "      <td>Comprehensive</td>\n",
       "      <td>5.0</td>\n",
       "      <td>1497.0</td>\n",
       "      <td>17.00</td>\n",
       "      <td>White</td>\n",
       "      <td>No</td>\n",
       "      <td>No</td>\n",
       "      <td>Power</td>\n",
       "      <td>170.0</td>\n",
       "      <td>4.0</td>\n",
       "      <td>352.0</td>\n",
       "      <td>Banglore</td>\n",
       "    </tr>\n",
       "    <tr>\n",
       "      <th>2</th>\n",
       "      <td>Hatchback</td>\n",
       "      <td>11949</td>\n",
       "      <td>Manual</td>\n",
       "      <td>1</td>\n",
       "      <td>Tata Tiago</td>\n",
       "      <td>2018</td>\n",
       "      <td>585000.0</td>\n",
       "      <td>Petrol</td>\n",
       "      <td>Comprehensive</td>\n",
       "      <td>5.0</td>\n",
       "      <td>1199.0</td>\n",
       "      <td>23.84</td>\n",
       "      <td>Red</td>\n",
       "      <td>No</td>\n",
       "      <td>No</td>\n",
       "      <td>Power</td>\n",
       "      <td>150.0</td>\n",
       "      <td>5.0</td>\n",
       "      <td>242.0</td>\n",
       "      <td>Banglore</td>\n",
       "    </tr>\n",
       "    <tr>\n",
       "      <th>3</th>\n",
       "      <td>Sedan</td>\n",
       "      <td>17794</td>\n",
       "      <td>Manual</td>\n",
       "      <td>1</td>\n",
       "      <td>Hyundai Xcent</td>\n",
       "      <td>2014</td>\n",
       "      <td>462000.0</td>\n",
       "      <td>Petrol</td>\n",
       "      <td>Comprehensive</td>\n",
       "      <td>5.0</td>\n",
       "      <td>1197.0</td>\n",
       "      <td>19.10</td>\n",
       "      <td>Others</td>\n",
       "      <td>No</td>\n",
       "      <td>No</td>\n",
       "      <td>Power</td>\n",
       "      <td>172.0</td>\n",
       "      <td>4.0</td>\n",
       "      <td>407.0</td>\n",
       "      <td>Banglore</td>\n",
       "    </tr>\n",
       "    <tr>\n",
       "      <th>4</th>\n",
       "      <td>SUV</td>\n",
       "      <td>60000</td>\n",
       "      <td>Manual</td>\n",
       "      <td>1</td>\n",
       "      <td>Maruti SX4 S Cross</td>\n",
       "      <td>2015</td>\n",
       "      <td>790000.0</td>\n",
       "      <td>Diesel</td>\n",
       "      <td>Third Party insurance</td>\n",
       "      <td>5.0</td>\n",
       "      <td>1248.0</td>\n",
       "      <td>23.65</td>\n",
       "      <td>Gray</td>\n",
       "      <td>Yes</td>\n",
       "      <td>No</td>\n",
       "      <td>Power</td>\n",
       "      <td>190.0</td>\n",
       "      <td>5.0</td>\n",
       "      <td>353.0</td>\n",
       "      <td>Banglore</td>\n",
       "    </tr>\n",
       "    <tr>\n",
       "      <th>...</th>\n",
       "      <td>...</td>\n",
       "      <td>...</td>\n",
       "      <td>...</td>\n",
       "      <td>...</td>\n",
       "      <td>...</td>\n",
       "      <td>...</td>\n",
       "      <td>...</td>\n",
       "      <td>...</td>\n",
       "      <td>...</td>\n",
       "      <td>...</td>\n",
       "      <td>...</td>\n",
       "      <td>...</td>\n",
       "      <td>...</td>\n",
       "      <td>...</td>\n",
       "      <td>...</td>\n",
       "      <td>...</td>\n",
       "      <td>...</td>\n",
       "      <td>...</td>\n",
       "      <td>...</td>\n",
       "      <td>...</td>\n",
       "    </tr>\n",
       "    <tr>\n",
       "      <th>8364</th>\n",
       "      <td>Hatchback</td>\n",
       "      <td>10000</td>\n",
       "      <td>Manual</td>\n",
       "      <td>1</td>\n",
       "      <td>Maruti Celerio</td>\n",
       "      <td>2022</td>\n",
       "      <td>510000.0</td>\n",
       "      <td>Petrol</td>\n",
       "      <td>Third Party insurance</td>\n",
       "      <td>5.0</td>\n",
       "      <td>998.0</td>\n",
       "      <td>25.24</td>\n",
       "      <td>Others</td>\n",
       "      <td>No</td>\n",
       "      <td>No</td>\n",
       "      <td>Electric</td>\n",
       "      <td>170.0</td>\n",
       "      <td>5.0</td>\n",
       "      <td>313.0</td>\n",
       "      <td>Kolkata</td>\n",
       "    </tr>\n",
       "    <tr>\n",
       "      <th>8365</th>\n",
       "      <td>Hatchback</td>\n",
       "      <td>120000</td>\n",
       "      <td>Manual</td>\n",
       "      <td>1</td>\n",
       "      <td>Maruti Alto 800</td>\n",
       "      <td>2014</td>\n",
       "      <td>180000.0</td>\n",
       "      <td>Petrol</td>\n",
       "      <td>Third Party insurance</td>\n",
       "      <td>5.0</td>\n",
       "      <td>796.0</td>\n",
       "      <td>22.74</td>\n",
       "      <td>Others</td>\n",
       "      <td>No</td>\n",
       "      <td>No</td>\n",
       "      <td>Power</td>\n",
       "      <td>140.0</td>\n",
       "      <td>5.0</td>\n",
       "      <td>177.0</td>\n",
       "      <td>Kolkata</td>\n",
       "    </tr>\n",
       "    <tr>\n",
       "      <th>8366</th>\n",
       "      <td>Sedan</td>\n",
       "      <td>50000</td>\n",
       "      <td>Automatic</td>\n",
       "      <td>3</td>\n",
       "      <td>Mercedes-Benz C-Class</td>\n",
       "      <td>2011</td>\n",
       "      <td>550000.0</td>\n",
       "      <td>Petrol</td>\n",
       "      <td>Third Party insurance</td>\n",
       "      <td>5.0</td>\n",
       "      <td>1796.0</td>\n",
       "      <td>11.74</td>\n",
       "      <td>Others</td>\n",
       "      <td>No</td>\n",
       "      <td>No</td>\n",
       "      <td>Power</td>\n",
       "      <td>230.0</td>\n",
       "      <td>4.0</td>\n",
       "      <td>475.0</td>\n",
       "      <td>Kolkata</td>\n",
       "    </tr>\n",
       "    <tr>\n",
       "      <th>8367</th>\n",
       "      <td>Hatchback</td>\n",
       "      <td>40000</td>\n",
       "      <td>Manual</td>\n",
       "      <td>1</td>\n",
       "      <td>Maruti Ritz</td>\n",
       "      <td>2012</td>\n",
       "      <td>140000.0</td>\n",
       "      <td>Petrol</td>\n",
       "      <td>Third Party insurance</td>\n",
       "      <td>5.0</td>\n",
       "      <td>1197.0</td>\n",
       "      <td>18.50</td>\n",
       "      <td>Others</td>\n",
       "      <td>No</td>\n",
       "      <td>No</td>\n",
       "      <td>Power</td>\n",
       "      <td>156.0</td>\n",
       "      <td>5.0</td>\n",
       "      <td>236.0</td>\n",
       "      <td>Kolkata</td>\n",
       "    </tr>\n",
       "    <tr>\n",
       "      <th>8368</th>\n",
       "      <td>SUV</td>\n",
       "      <td>120000</td>\n",
       "      <td>Manual</td>\n",
       "      <td>2</td>\n",
       "      <td>Renault Duster</td>\n",
       "      <td>2017</td>\n",
       "      <td>500000.0</td>\n",
       "      <td>Diesel</td>\n",
       "      <td>Third Party insurance</td>\n",
       "      <td>5.0</td>\n",
       "      <td>1461.0</td>\n",
       "      <td>19.72</td>\n",
       "      <td>Others</td>\n",
       "      <td>Yes</td>\n",
       "      <td>No</td>\n",
       "      <td>Power</td>\n",
       "      <td>168.0</td>\n",
       "      <td>5.0</td>\n",
       "      <td>410.0</td>\n",
       "      <td>Kolkata</td>\n",
       "    </tr>\n",
       "  </tbody>\n",
       "</table>\n",
       "<p>8261 rows × 20 columns</p>\n",
       "</div>"
      ],
      "text/plain": [
       "      body type  Kilometers driven Transmission type  Number of owners  \\\n",
       "0     Hatchback             120000            Manual                 3   \n",
       "1           SUV              32706            Manual                 2   \n",
       "2     Hatchback              11949            Manual                 1   \n",
       "3         Sedan              17794            Manual                 1   \n",
       "4           SUV              60000            Manual                 1   \n",
       "...         ...                ...               ...               ...   \n",
       "8364  Hatchback              10000            Manual                 1   \n",
       "8365  Hatchback             120000            Manual                 1   \n",
       "8366      Sedan              50000         Automatic                 3   \n",
       "8367  Hatchback              40000            Manual                 1   \n",
       "8368        SUV             120000            Manual                 2   \n",
       "\n",
       "                  car model  Year of manufacture     price Fuel Type  \\\n",
       "0            Maruti Celerio                 2015  400000.0    Petrol   \n",
       "1             Ford Ecosport                 2018  811000.0    Petrol   \n",
       "2                Tata Tiago                 2018  585000.0    Petrol   \n",
       "3             Hyundai Xcent                 2014  462000.0    Petrol   \n",
       "4        Maruti SX4 S Cross                 2015  790000.0    Diesel   \n",
       "...                     ...                  ...       ...       ...   \n",
       "8364         Maruti Celerio                 2022  510000.0    Petrol   \n",
       "8365        Maruti Alto 800                 2014  180000.0    Petrol   \n",
       "8366  Mercedes-Benz C-Class                 2011  550000.0    Petrol   \n",
       "8367            Maruti Ritz                 2012  140000.0    Petrol   \n",
       "8368         Renault Duster                 2017  500000.0    Diesel   \n",
       "\n",
       "         Insurance Validity  Seats  Engine  Mileage   Color Turbo Charger  \\\n",
       "0     Third Party insurance    5.0   998.0    23.10   White            No   \n",
       "1             Comprehensive    5.0  1497.0    17.00   White            No   \n",
       "2             Comprehensive    5.0  1199.0    23.84     Red            No   \n",
       "3             Comprehensive    5.0  1197.0    19.10  Others            No   \n",
       "4     Third Party insurance    5.0  1248.0    23.65    Gray           Yes   \n",
       "...                     ...    ...     ...      ...     ...           ...   \n",
       "8364  Third Party insurance    5.0   998.0    25.24  Others            No   \n",
       "8365  Third Party insurance    5.0   796.0    22.74  Others            No   \n",
       "8366  Third Party insurance    5.0  1796.0    11.74  Others            No   \n",
       "8367  Third Party insurance    5.0  1197.0    18.50  Others            No   \n",
       "8368  Third Party insurance    5.0  1461.0    19.72  Others           Yes   \n",
       "\n",
       "     Super Charger Steering Type  Top Speed  No of Doors  Cargo Volumn  \\\n",
       "0               No         Power      150.0          5.0         235.0   \n",
       "1               No         Power      170.0          4.0         352.0   \n",
       "2               No         Power      150.0          5.0         242.0   \n",
       "3               No         Power      172.0          4.0         407.0   \n",
       "4               No         Power      190.0          5.0         353.0   \n",
       "...            ...           ...        ...          ...           ...   \n",
       "8364            No      Electric      170.0          5.0         313.0   \n",
       "8365            No         Power      140.0          5.0         177.0   \n",
       "8366            No         Power      230.0          4.0         475.0   \n",
       "8367            No         Power      156.0          5.0         236.0   \n",
       "8368            No         Power      168.0          5.0         410.0   \n",
       "\n",
       "          City  \n",
       "0     Banglore  \n",
       "1     Banglore  \n",
       "2     Banglore  \n",
       "3     Banglore  \n",
       "4     Banglore  \n",
       "...        ...  \n",
       "8364   Kolkata  \n",
       "8365   Kolkata  \n",
       "8366   Kolkata  \n",
       "8367   Kolkata  \n",
       "8368   Kolkata  \n",
       "\n",
       "[8261 rows x 20 columns]"
      ]
     },
     "execution_count": 34,
     "metadata": {},
     "output_type": "execute_result"
    }
   ],
   "source": [
    "data"
   ]
  },
  {
   "cell_type": "code",
   "execution_count": 35,
   "metadata": {},
   "outputs": [
    {
     "data": {
      "text/plain": [
       "np.float64(5.0)"
      ]
     },
     "execution_count": 35,
     "metadata": {},
     "output_type": "execute_result"
    }
   ],
   "source": [
    "data['No of Doors'].median()"
   ]
  },
  {
   "cell_type": "code",
   "execution_count": 36,
   "metadata": {},
   "outputs": [
    {
     "name": "stderr",
     "output_type": "stream",
     "text": [
      "C:\\Users\\GS0864\\AppData\\Local\\Temp\\ipykernel_8312\\897941360.py:1: FutureWarning: A value is trying to be set on a copy of a DataFrame or Series through chained assignment using an inplace method.\n",
      "The behavior will change in pandas 3.0. This inplace method will never work because the intermediate object on which we are setting values always behaves as a copy.\n",
      "\n",
      "For example, when doing 'df[col].method(value, inplace=True)', try using 'df.method({col: value}, inplace=True)' or df[col] = df[col].method(value) instead, to perform the operation inplace on the original object.\n",
      "\n",
      "\n",
      "  data['No of Doors'].fillna(data['No of Doors'].median(), inplace=True)\n"
     ]
    }
   ],
   "source": [
    "data['No of Doors'].fillna(data['No of Doors'].median(), inplace=True)"
   ]
  },
  {
   "cell_type": "code",
   "execution_count": 37,
   "metadata": {},
   "outputs": [
    {
     "data": {
      "text/plain": [
       "body type                 0\n",
       "Kilometers driven         0\n",
       "Transmission type         0\n",
       "Number of owners          0\n",
       "car model                 0\n",
       "Year of manufacture       0\n",
       "price                     0\n",
       "Fuel Type                 0\n",
       "Insurance Validity        0\n",
       "Seats                     0\n",
       "Engine                    0\n",
       "Mileage                   0\n",
       "Color                     0\n",
       "Turbo Charger             0\n",
       "Super Charger             0\n",
       "Steering Type             0\n",
       "Top Speed                 0\n",
       "No of Doors               0\n",
       "Cargo Volumn           1568\n",
       "City                      0\n",
       "dtype: int64"
      ]
     },
     "execution_count": 37,
     "metadata": {},
     "output_type": "execute_result"
    }
   ],
   "source": [
    "data.isnull().sum()"
   ]
  },
  {
   "cell_type": "code",
   "execution_count": 38,
   "metadata": {},
   "outputs": [
    {
     "data": {
      "text/plain": [
       "np.float64(9657.984760197221)"
      ]
     },
     "execution_count": 38,
     "metadata": {},
     "output_type": "execute_result"
    }
   ],
   "source": [
    "data['Cargo Volumn'].mean()"
   ]
  },
  {
   "cell_type": "code",
   "execution_count": 39,
   "metadata": {},
   "outputs": [
    {
     "name": "stderr",
     "output_type": "stream",
     "text": [
      "C:\\Users\\GS0864\\AppData\\Local\\Temp\\ipykernel_8312\\3885226953.py:1: FutureWarning: A value is trying to be set on a copy of a DataFrame or Series through chained assignment using an inplace method.\n",
      "The behavior will change in pandas 3.0. This inplace method will never work because the intermediate object on which we are setting values always behaves as a copy.\n",
      "\n",
      "For example, when doing 'df[col].method(value, inplace=True)', try using 'df.method({col: value}, inplace=True)' or df[col] = df[col].method(value) instead, to perform the operation inplace on the original object.\n",
      "\n",
      "\n",
      "  data['Cargo Volumn'].fillna(data['Cargo Volumn'].mean(), inplace= True)\n"
     ]
    }
   ],
   "source": [
    "data['Cargo Volumn'].fillna(data['Cargo Volumn'].mean(), inplace= True)"
   ]
  },
  {
   "cell_type": "code",
   "execution_count": 40,
   "metadata": {},
   "outputs": [
    {
     "data": {
      "text/plain": [
       "body type              0\n",
       "Kilometers driven      0\n",
       "Transmission type      0\n",
       "Number of owners       0\n",
       "car model              0\n",
       "Year of manufacture    0\n",
       "price                  0\n",
       "Fuel Type              0\n",
       "Insurance Validity     0\n",
       "Seats                  0\n",
       "Engine                 0\n",
       "Mileage                0\n",
       "Color                  0\n",
       "Turbo Charger          0\n",
       "Super Charger          0\n",
       "Steering Type          0\n",
       "Top Speed              0\n",
       "No of Doors            0\n",
       "Cargo Volumn           0\n",
       "City                   0\n",
       "dtype: int64"
      ]
     },
     "execution_count": 40,
     "metadata": {},
     "output_type": "execute_result"
    }
   ],
   "source": [
    "data.isnull().sum()"
   ]
  },
  {
   "cell_type": "code",
   "execution_count": 41,
   "metadata": {},
   "outputs": [
    {
     "name": "stdout",
     "output_type": "stream",
     "text": [
      "<class 'pandas.core.frame.DataFrame'>\n",
      "Index: 8261 entries, 0 to 8368\n",
      "Data columns (total 20 columns):\n",
      " #   Column               Non-Null Count  Dtype  \n",
      "---  ------               --------------  -----  \n",
      " 0   body type            8261 non-null   object \n",
      " 1   Kilometers driven    8261 non-null   int64  \n",
      " 2   Transmission type    8261 non-null   object \n",
      " 3   Number of owners     8261 non-null   int64  \n",
      " 4   car model            8261 non-null   object \n",
      " 5   Year of manufacture  8261 non-null   int64  \n",
      " 6   price                8261 non-null   float64\n",
      " 7   Fuel Type            8261 non-null   object \n",
      " 8   Insurance Validity   8261 non-null   object \n",
      " 9   Seats                8261 non-null   float64\n",
      " 10  Engine               8261 non-null   float64\n",
      " 11  Mileage              8261 non-null   float64\n",
      " 12  Color                8261 non-null   object \n",
      " 13  Turbo Charger        8261 non-null   object \n",
      " 14  Super Charger        8261 non-null   object \n",
      " 15  Steering Type        8261 non-null   object \n",
      " 16  Top Speed            8261 non-null   float64\n",
      " 17  No of Doors          8261 non-null   float64\n",
      " 18  Cargo Volumn         8261 non-null   float64\n",
      " 19  City                 8261 non-null   object \n",
      "dtypes: float64(7), int64(3), object(10)\n",
      "memory usage: 1.3+ MB\n"
     ]
    }
   ],
   "source": [
    "data.info()"
   ]
  },
  {
   "cell_type": "code",
   "execution_count": 42,
   "metadata": {},
   "outputs": [],
   "source": [
    "data['No of Doors'] = data['No of Doors'].astype(int)"
   ]
  },
  {
   "cell_type": "code",
   "execution_count": 43,
   "metadata": {},
   "outputs": [],
   "source": [
    "data['Cargo Volumn'] = data['Cargo Volumn'].astype(int)"
   ]
  },
  {
   "cell_type": "code",
   "execution_count": 44,
   "metadata": {},
   "outputs": [
    {
     "data": {
      "image/png": "[encoded data removed]",
      "text/plain": [
       "<Figure size 2000x1000 with 1 Axes>"
      ]
     },
     "metadata": {},
     "output_type": "display_data"
    }
   ],
   "source": [
    "plt.figure(figsize=(20,10))\n",
    "sns.boxplot(data = data)\n",
    "plt.show()"
   ]
  },
  {
   "cell_type": "code",
   "execution_count": 45,
   "metadata": {},
   "outputs": [
    {
     "data": {
      "image/png": "[encoded data removed]",
      "text/plain": [
       "<Figure size 2000x500 with 1 Axes>"
      ]
     },
     "metadata": {},
     "output_type": "display_data"
    }
   ],
   "source": [
    "plt.figure(figsize=(20,5))\n",
    "sns.boxplot(data = data, x='Kilometers driven')\n",
    "plt.show()"
   ]
  },
  {
   "cell_type": "code",
   "execution_count": 46,
   "metadata": {},
   "outputs": [
    {
     "data": {
      "image/png": "[encoded data removed]",
      "text/plain": [
       "<Figure size 2000x500 with 1 Axes>"
      ]
     },
     "metadata": {},
     "output_type": "display_data"
    }
   ],
   "source": [
    "plt.figure(figsize=(20,5))\n",
    "sns.boxplot(data = data, x='price')\n",
    "plt.show()"
   ]
  },
  {
   "cell_type": "code",
   "execution_count": 47,
   "metadata": {},
   "outputs": [
    {
     "data": {
      "image/png": "[encoded data removed]",
      "text/plain": [
       "<Figure size 2000x500 with 1 Axes>"
      ]
     },
     "metadata": {},
     "output_type": "display_data"
    }
   ],
   "source": [
    "\n",
    "plt.figure(figsize=(20,5))\n",
    "sns.boxplot(data = data, x='Cargo Volumn')\n",
    "plt.show()"
   ]
  },
  {
   "cell_type": "code",
   "execution_count": 48,
   "metadata": {},
   "outputs": [
    {
     "data": {
      "text/plain": [
       "np.int64(3851405)"
      ]
     },
     "execution_count": 48,
     "metadata": {},
     "output_type": "execute_result"
    }
   ],
   "source": [
    "data['Cargo Volumn'].max()"
   ]
  },
  {
   "cell_type": "code",
   "execution_count": 49,
   "metadata": {},
   "outputs": [
    {
     "data": {
      "text/plain": [
       "np.int64(29)"
      ]
     },
     "execution_count": 49,
     "metadata": {},
     "output_type": "execute_result"
    }
   ],
   "source": [
    "data['Cargo Volumn'].min()"
   ]
  },
  {
   "cell_type": "code",
   "execution_count": 50,
   "metadata": {},
   "outputs": [
    {
     "data": {
      "text/plain": [
       "np.float64(9657.79784529718)"
      ]
     },
     "execution_count": 50,
     "metadata": {},
     "output_type": "execute_result"
    }
   ],
   "source": [
    "data['Cargo Volumn'].mean()"
   ]
  },
  {
   "cell_type": "code",
   "execution_count": 51,
   "metadata": {},
   "outputs": [
    {
     "name": "stdout",
     "output_type": "stream",
     "text": [
      "<class 'pandas.core.frame.DataFrame'>\n",
      "Index: 8261 entries, 0 to 8368\n",
      "Data columns (total 20 columns):\n",
      " #   Column               Non-Null Count  Dtype  \n",
      "---  ------               --------------  -----  \n",
      " 0   body type            8261 non-null   object \n",
      " 1   Kilometers driven    8261 non-null   int64  \n",
      " 2   Transmission type    8261 non-null   object \n",
      " 3   Number of owners     8261 non-null   int64  \n",
      " 4   car model            8261 non-null   object \n",
      " 5   Year of manufacture  8261 non-null   int64  \n",
      " 6   price                8261 non-null   float64\n",
      " 7   Fuel Type            8261 non-null   object \n",
      " 8   Insurance Validity   8261 non-null   object \n",
      " 9   Seats                8261 non-null   float64\n",
      " 10  Engine               8261 non-null   float64\n",
      " 11  Mileage              8261 non-null   float64\n",
      " 12  Color                8261 non-null   object \n",
      " 13  Turbo Charger        8261 non-null   object \n",
      " 14  Super Charger        8261 non-null   object \n",
      " 15  Steering Type        8261 non-null   object \n",
      " 16  Top Speed            8261 non-null   float64\n",
      " 17  No of Doors          8261 non-null   int64  \n",
      " 18  Cargo Volumn         8261 non-null   int64  \n",
      " 19  City                 8261 non-null   object \n",
      "dtypes: float64(5), int64(5), object(10)\n",
      "memory usage: 1.3+ MB\n"
     ]
    }
   ],
   "source": [
    "data.info()"
   ]
  },
  {
   "cell_type": "code",
   "execution_count": 52,
   "metadata": {},
   "outputs": [],
   "source": [
    "data1 = data.drop([\"body type\",'Transmission type','car model','Fuel Type','Insurance Validity','Color', 'Turbo Charger', 'Super Charger',\n",
    "                   'Steering Type','City'], axis= 1)"
   ]
  },
  {
   "cell_type": "code",
   "execution_count": 53,
   "metadata": {},
   "outputs": [],
   "source": [
    "\n",
    "corr = data1.corr()"
   ]
  },
  {
   "cell_type": "code",
   "execution_count": 54,
   "metadata": {},
   "outputs": [
    {
     "data": {
      "image/png": "[encoded data removed]",
      "text/plain": [
       "<Figure size 1600x500 with 2 Axes>"
      ]
     },
     "metadata": {},
     "output_type": "display_data"
    }
   ],
   "source": [
    "plt.figure(figsize=(16,5))\n",
    "sns.heatmap(corr, fmt='.2f', annot=True, cmap='coolwarm')\n",
    "plt.show()"
   ]
  },
  {
   "cell_type": "code",
   "execution_count": 55,
   "metadata": {},
   "outputs": [],
   "source": [
    "data.to_csv(\"Final_data.csv\")"
   ]
  }
 ],
 "metadata": {
  "kernelspec": {
   "display_name": "env",
   "language": "python",
   "name": "python3"
  },
  "language_info": {
   "codemirror_mode": {
    "name": "ipython",
    "version": 3
   },
   "file_extension": ".py",
   "mimetype": "text/x-python",
   "name": "python",
   "nbconvert_exporter": "python",
   "pygments_lexer": "ipython3",
   "version": "3.13.0"
  }
 },
 "nbformat": 4,
 "nbformat_minor": 2
}
