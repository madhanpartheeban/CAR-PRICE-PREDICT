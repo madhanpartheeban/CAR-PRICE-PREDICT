{
 "cells": [
  {
   "cell_type": "code",
   "execution_count": 5,
   "metadata": {},
   "outputs": [],
   "source": [
    "import pandas as pd \n"
   ]
  },
  {
   "cell_type": "code",
   "execution_count": 6,
   "metadata": {},
   "outputs": [],
   "source": [
    "banglore = pd.read_csv(r\"C:\\Users\\GS0864\\OneDrive\\Desktop\\for_vs_code\\CAR_PRICE_PREDICTION\\car_data_cleaning\\cleaned_data_csv\\cleaned_Banglore_cars.csv\")\n",
    "chennai = pd.read_csv(r\"C:\\Users\\GS0864\\OneDrive\\Desktop\\for_vs_code\\CAR_PRICE_PREDICTION\\car_data_cleaning\\cleaned_data_csv\\cleaned_Chennai_cars.csv\")\n",
    "delhi = pd.read_csv(r\"C:\\Users\\GS0864\\OneDrive\\Desktop\\for_vs_code\\CAR_PRICE_PREDICTION\\car_data_cleaning\\cleaned_data_csv\\cleaned_Delhi_cars.csv\")\n",
    "hyderabad = pd.read_csv(r\"C:\\Users\\GS0864\\OneDrive\\Desktop\\for_vs_code\\CAR_PRICE_PREDICTION\\car_data_cleaning\\cleaned_data_csv\\cleaned_Hyderabad_cars.csv\")\n",
    "jaipur = pd.read_csv(r\"C:\\Users\\GS0864\\OneDrive\\Desktop\\for_vs_code\\CAR_PRICE_PREDICTION\\car_data_cleaning\\cleaned_data_csv\\cleaned_Jaipur_cars.csv\")\n",
    "kolkata = pd.read_csv(r\"C:\\Users\\GS0864\\OneDrive\\Desktop\\for_vs_code\\CAR_PRICE_PREDICTION\\car_data_cleaning\\cleaned_data_csv\\cleaned_Kolkata_cars.csv\")"
   ]
  },
  {
   "cell_type": "code",
   "execution_count": 7,
   "metadata": {},
   "outputs": [],
   "source": [
    "final_df = pd.concat([banglore,chennai,delhi,hyderabad,jaipur,kolkata], ignore_index=True)"
   ]
  },
  {
   "cell_type": "code",
   "execution_count": 8,
   "metadata": {},
   "outputs": [],
   "source": [
    "final_df.to_csv(\"car_data.csv\")"
   ]
  },
  {
   "cell_type": "code",
   "execution_count": null,
   "metadata": {},
   "outputs": [],
   "source": []
  }
 ],
 "metadata": {
  "kernelspec": {
   "display_name": "env",
   "language": "python",
   "name": "python3"
  },
  "language_info": {
   "codemirror_mode": {
    "name": "ipython",
    "version": 3
   },
   "file_extension": ".py",
   "mimetype": "text/x-python",
   "name": "python",
   "nbconvert_exporter": "python",
   "pygments_lexer": "ipython3",
   "version": "3.13.0"
  }
 },
 "nbformat": 4,
 "nbformat_minor": 2
}
